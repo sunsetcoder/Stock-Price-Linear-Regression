{
 "cells": [
  {
   "cell_type": "code",
   "execution_count": 29,
   "metadata": {
    "scrolled": true
   },
   "outputs": [],
   "source": [
    "#Linear Regression\n",
    "\n",
    "import math, csv, random\n",
    "import datetime as dt\n",
    "import numpy as np\n",
    "import pandas as pd\n",
    "import matplotlib.pyplot as plt\n",
    "import talib\n",
    "from sklearn import linear_model\n",
    "from sklearn.metrics import mean_squared_error, r2_score\n",
    "%matplotlib inline\n",
    "\n",
    "file_name = \"stockdata.txt\"\n",
    "\n",
    "start = dt.datetime(2013,1,1)\n",
    "stop  = dt.datetime(2018,3,16)\n",
    "\n",
    "def ReadData():\n",
    "        global df1\n",
    "        df1 = pd.read_csv(file_name, delimiter=',', index_col='Date', parse_dates=True)\n",
    "        df1 = df1[df1.index >= start]\n",
    "        df1 = df1[df1.index <= stop]\n",
    "\n"
   ]
  },
  {
   "cell_type": "code",
   "execution_count": 30,
   "metadata": {},
   "outputs": [],
   "source": [
    "        ReadData()\n",
    "        \n",
    "        # Implement the Linear Regression model:\n",
    "        lr = linear_model.LinearRegression()\n",
    "        x = df1.drop([\"Close\",\"Time\"],axis=1).shift(1)[1:]\n",
    "        y = df1['Close'][1:]\n",
    "        lr.fit(x,y)\n",
    "        y_predicted = lr.predict(x)"
   ]
  },
  {
   "cell_type": "code",
   "execution_count": 31,
   "metadata": {},
   "outputs": [
    {
     "data": {
      "text/html": [
       "<div>\n",
       "<style scoped>\n",
       "    .dataframe tbody tr th:only-of-type {\n",
       "        vertical-align: middle;\n",
       "    }\n",
       "\n",
       "    .dataframe tbody tr th {\n",
       "        vertical-align: top;\n",
       "    }\n",
       "\n",
       "    .dataframe thead th {\n",
       "        text-align: right;\n",
       "    }\n",
       "</style>\n",
       "<table border=\"1\" class=\"dataframe\">\n",
       "  <thead>\n",
       "    <tr style=\"text-align: right;\">\n",
       "      <th></th>\n",
       "      <th>Time</th>\n",
       "      <th>Open</th>\n",
       "      <th>High</th>\n",
       "      <th>Low</th>\n",
       "      <th>Close</th>\n",
       "      <th>Vol</th>\n",
       "      <th>OI</th>\n",
       "    </tr>\n",
       "    <tr>\n",
       "      <th>Date</th>\n",
       "      <th></th>\n",
       "      <th></th>\n",
       "      <th></th>\n",
       "      <th></th>\n",
       "      <th></th>\n",
       "      <th></th>\n",
       "      <th></th>\n",
       "    </tr>\n",
       "  </thead>\n",
       "  <tbody>\n",
       "    <tr>\n",
       "      <th>2013-01-01</th>\n",
       "      <td>23:00:00</td>\n",
       "      <td>91.78</td>\n",
       "      <td>91.82</td>\n",
       "      <td>91.56</td>\n",
       "      <td>91.70</td>\n",
       "      <td>679</td>\n",
       "      <td>0</td>\n",
       "    </tr>\n",
       "    <tr>\n",
       "      <th>2013-01-01</th>\n",
       "      <td>23:15:00</td>\n",
       "      <td>91.70</td>\n",
       "      <td>91.75</td>\n",
       "      <td>91.63</td>\n",
       "      <td>91.65</td>\n",
       "      <td>244</td>\n",
       "      <td>0</td>\n",
       "    </tr>\n",
       "    <tr>\n",
       "      <th>2013-01-01</th>\n",
       "      <td>23:30:00</td>\n",
       "      <td>91.65</td>\n",
       "      <td>91.67</td>\n",
       "      <td>91.64</td>\n",
       "      <td>91.67</td>\n",
       "      <td>117</td>\n",
       "      <td>0</td>\n",
       "    </tr>\n",
       "    <tr>\n",
       "      <th>2013-01-01</th>\n",
       "      <td>23:45:00</td>\n",
       "      <td>91.67</td>\n",
       "      <td>91.72</td>\n",
       "      <td>91.65</td>\n",
       "      <td>91.70</td>\n",
       "      <td>157</td>\n",
       "      <td>0</td>\n",
       "    </tr>\n",
       "    <tr>\n",
       "      <th>2013-01-02</th>\n",
       "      <td>00:00:00</td>\n",
       "      <td>91.65</td>\n",
       "      <td>91.71</td>\n",
       "      <td>91.63</td>\n",
       "      <td>91.69</td>\n",
       "      <td>213</td>\n",
       "      <td>0</td>\n",
       "    </tr>\n",
       "  </tbody>\n",
       "</table>\n",
       "</div>"
      ],
      "text/plain": [
       "                Time   Open   High    Low  Close  Vol  OI\n",
       "Date                                                     \n",
       "2013-01-01  23:00:00  91.78  91.82  91.56  91.70  679   0\n",
       "2013-01-01  23:15:00  91.70  91.75  91.63  91.65  244   0\n",
       "2013-01-01  23:30:00  91.65  91.67  91.64  91.67  117   0\n",
       "2013-01-01  23:45:00  91.67  91.72  91.65  91.70  157   0\n",
       "2013-01-02  00:00:00  91.65  91.71  91.63  91.69  213   0"
      ]
     },
     "execution_count": 31,
     "metadata": {},
     "output_type": "execute_result"
    }
   ],
   "source": [
    "df1.head()"
   ]
  },
  {
   "cell_type": "code",
   "execution_count": 42,
   "metadata": {},
   "outputs": [
    {
     "data": {
      "text/plain": [
       "<matplotlib.axes._subplots.AxesSubplot at 0x23b81625128>"
      ]
     },
     "execution_count": 42,
     "metadata": {},
     "output_type": "execute_result"
    },
    {
     "data": {
      "image/png": "[encoded data removed]",
      "text/plain": [
       "<Figure size 432x288 with 1 Axes>"
      ]
     },
     "metadata": {},
     "output_type": "display_data"
    }
   ],
   "source": [
    "# Plot a subset of column(s) to preview the current training set (Open price)\n",
    "x = df1.drop([\"Time\",\"Close\",\"OI\"],axis=1).shift(1)[1:]\n",
    "x.tail()\n",
    "x['Open'].plot()"
   ]
  },
  {
   "cell_type": "code",
   "execution_count": 43,
   "metadata": {},
   "outputs": [
    {
     "name": "stdout",
     "output_type": "stream",
     "text": [
      "91.65\n"
     ]
    },
    {
     "data": {
      "text/plain": [
       "<matplotlib.axes._subplots.AxesSubplot at 0x23b8247fb00>"
      ]
     },
     "execution_count": 43,
     "metadata": {},
     "output_type": "execute_result"
    },
    {
     "data": {
      "image/png": "[encoded data removed]",
      "text/plain": [
       "<Figure size 432x288 with 1 Axes>"
      ]
     },
     "metadata": {},
     "output_type": "display_data"
    }
   ],
   "source": [
    "# Plot the label targets (ie. next day price)\n",
    "y = df1['Close'][1:]\n",
    "print(y.iloc[0])\n",
    "y.plot()"
   ]
  },
  {
   "cell_type": "code",
   "execution_count": 44,
   "metadata": {},
   "outputs": [
    {
     "name": "stdout",
     "output_type": "stream",
     "text": [
      "df1['Close'][117687] =  62.19\n",
      "x shape:  (117687, 4)\n",
      "y (target) shape: (117687,)\n",
      "Length of y_predicted list:  117687\n",
      "Today's features [O, H, L]:  62.195 62.21 62.19\n",
      "Tomorrow's close = (target for above features)  62.19\n",
      "Linear regression prediction for tomorrow's close: y predicted[0]: 62.203511868925176\n",
      "\n",
      "\n",
      "Mean squared error: 0.02\n",
      "Variance score: 1.00\n",
      "Graph of by how many $ the prediction was off, see some days was off by $2+ !:\n"
     ]
    },
    {
     "data": {
      "text/plain": [
       "[<matplotlib.lines.Line2D at 0x23b84865e48>]"
      ]
     },
     "execution_count": 44,
     "metadata": {},
     "output_type": "execute_result"
    },
    {
     "data": {
      "image/png": "[encoded data removed]",
      "text/plain": [
       "<Figure size 432x288 with 1 Axes>"
      ]
     },
     "metadata": {},
     "output_type": "display_data"
    }
   ],
   "source": [
    "# Output the training set and predictions for any random day as an eyeball test of the code (more substantive tests to be coded later):\n",
    "print(\"df1['Close'][117687] = \", df1['Close'][117687])\n",
    "print(\"x shape: \",x.shape)\n",
    "print(\"y (target) shape:\",y.shape)\n",
    "print(\"Length of y_predicted list: \",len(y_predicted))\n",
    "print(\"Today's features [O, H, L]: \",x['Open'][117686], x['High'][117686], x['Low'][117686])\n",
    "print(\"Tomorrow's close = (target for above features) \", y.iloc[117686])\n",
    "print(\"Linear regression prediction for tomorrow's close: y predicted[0]:\", y_predicted[117686])\n",
    "print('\\n')\n",
    "print(\"Mean squared error: %.2f\"\n",
    "      % mean_squared_error(y, y_predicted))\n",
    "print('Variance score: %.2f' % r2_score(y, y_predicted))\n",
    "print(\"Graph of by how many $ the prediction was off, see some days was off by $2+ !:\")\n",
    "plt.plot(y_predicted-y)\n"
   ]
  },
  {
   "cell_type": "code",
   "execution_count": 45,
   "metadata": {},
   "outputs": [],
   "source": [
    "# Generate a list of binary signals for the trading system (1 = buy the stock, 0 = sell the stock or don't enter any position.)\n",
    "for i,y in enumerate(y_predicted):\n",
    "    if i > 1 and y > y_predicted[i-1]:\n",
    "        Signal = 1\n",
    "    else:\n",
    "        Signal = 0    "
   ]
  }
 ],
 "metadata": {
  "kernelspec": {
   "display_name": "Python 3",
   "language": "python",
   "name": "python3"
  },
  "language_info": {
   "codemirror_mode": {
    "name": "ipython",
    "version": 3
   },
   "file_extension": ".py",
   "mimetype": "text/x-python",
   "name": "python",
   "nbconvert_exporter": "python",
   "pygments_lexer": "ipython3",
   "version": "3.6.6"
  }
 },
 "nbformat": 4,
 "nbformat_minor": 2
}
